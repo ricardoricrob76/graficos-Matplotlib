{
  "nbformat": 4,
  "nbformat_minor": 0,
  "metadata": {
    "colab": {
      "provenance": [],
      "authorship_tag": "ABX9TyPeT9SvYK+mgDlSdAYzPqs6",
      "include_colab_link": true
    },
    "kernelspec": {
      "name": "python3",
      "display_name": "Python 3"
    },
    "language_info": {
      "name": "python"
    }
  },
  "cells": [
    {
      "cell_type": "markdown",
      "metadata": {
        "id": "view-in-github",
        "colab_type": "text"
      },
      "source": [
        "<a href=\"https://colab.research.google.com/github/ricardoricrob76/graficos-Matplotlib/blob/main/01%20-%20MatPlotLib_Cria%C3%A7%C3%A3o_de_Gr%C3%A1ficos_Area.ipynb\" target=\"_parent\"><img src=\"https://colab.research.google.com/assets/colab-badge.svg\" alt=\"Open In Colab\"/></a>"
      ]
    },
    {
      "cell_type": "markdown",
      "source": [
        "# **Matplotlib - Gráfico de área**"
      ],
      "metadata": {
        "id": "8qJCd1rDul7B"
      }
    },
    {
      "cell_type": "code",
      "execution_count": null,
      "metadata": {
        "id": "lWsVe0FsuYGc"
      },
      "outputs": [],
      "source": [
        "# * Criando gráficos de área com a biblioteca MatPlotLib\n",
        "# * Prof. MSc. Ricardo Roberto de Lima\n",
        "# * ricardorobertolima@gmail.com"
      ]
    },
    {
      "cell_type": "code",
      "source": [
        "# Importe das Bibliotecas."
      ],
      "metadata": {
        "id": "WIfn0Z7vuz7q"
      },
      "execution_count": null,
      "outputs": []
    },
    {
      "cell_type": "code",
      "source": [
        "import numpy as np\n",
        "import matplotlib.pyplot as plt"
      ],
      "metadata": {
        "id": "e9r5-SjNvOcA"
      },
      "execution_count": null,
      "outputs": []
    },
    {
      "cell_type": "markdown",
      "source": [
        "Começando o código"
      ],
      "metadata": {
        "id": "urKas9y7vTOJ"
      }
    },
    {
      "cell_type": "code",
      "source": [
        "# Criando as variáveis de X\n",
        "X = np.linspace(-5,5,101)"
      ],
      "metadata": {
        "id": "ot0HWSkQvXHt"
      },
      "execution_count": null,
      "outputs": []
    },
    {
      "cell_type": "code",
      "source": [
        "# Criando as variáveis de Y\n",
        "Y = (X-2.0)*(X+2.0)"
      ],
      "metadata": {
        "id": "pwC5DvHxwJAI"
      },
      "execution_count": null,
      "outputs": []
    },
    {
      "cell_type": "code",
      "source": [
        "# Gerando o Gráfico de Áreas pelo Matplotlib.\n",
        "plt.plot(X,Y)\n",
        "plt.xlabel('X')\n",
        "plt.ylabel('Y')\n",
        "plt.fill_between(X, Y)\n",
        "plt.show()"
      ],
      "metadata": {
        "colab": {
          "base_uri": "https://localhost:8080/",
          "height": 279
        },
        "id": "TEF6NWrfwOJl",
        "outputId": "d599159c-55c5-4885-c506-9a27fb130818"
      },
      "execution_count": null,
      "outputs": [
        {
          "output_type": "display_data",
          "data": {
            "text/plain": [
              "<Figure size 432x288 with 1 Axes>"
            ],
            "image/png": "[encoded data removed]"
          },
          "metadata": {
            "needs_background": "light"
          }
        }
      ]
    },
    {
      "cell_type": "code",
      "source": [],
      "metadata": {
        "id": "iHWXloCPxCLp"
      },
      "execution_count": null,
      "outputs": []
    }
  ]
}